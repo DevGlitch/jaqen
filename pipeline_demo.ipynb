{
 "cells": [
  {
   "cell_type": "code",
   "execution_count": 2,
   "id": "cc24f3d5",
   "metadata": {},
   "outputs": [],
   "source": [
    "import io\n",
    "import socket\n",
    "import struct\n",
    "from PIL import Image\n",
    "import cv2\n",
    "import numpy as np"
   ]
  },
  {
   "cell_type": "code",
   "execution_count": 3,
   "id": "85c84641",
   "metadata": {},
   "outputs": [],
   "source": [
    "server_socket = socket.socket()\n",
    "server_socket.bind((\"192.168.1.65\", 8000))\n",
    "server_socket.listen(0)\n",
    "\n",
    "connection = server_socket.accept()[0].makefile('rb')\n",
    "try:\n",
    "    while True:\n",
    "        image_len = struct.unpack('<L', connection.read(struct.calcsize('<L')))[0]\n",
    "        if not image_len:\n",
    "            break\n",
    "\n",
    "        # data from the connection\n",
    "        image_stream = io.BytesIO()\n",
    "        image_stream.write(connection.read(image_len))\n",
    "        \n",
    "        # Rewind the stream, open it as an image with PIL and do some\n",
    "        image_stream.seek(0)\n",
    "#         image = cv2.imread(image_stream)\n",
    "        image = Image.open(image_stream) \n",
    "        image = np.array(image)\n",
    "#         image = cv2.cvtColor(image, cv2.COLOR_BGR2RGB)\n",
    "        cv2.imshow('Raspi Cam', image)\n",
    "        cv2.waitKey(10)\n",
    "\n",
    "finally:\n",
    "    connection.close()\n",
    "    server_socket.close()\n",
    "    cv2.destroyAllWindows()"
   ]
  }
 ],
 "metadata": {
  "kernelspec": {
   "display_name": "Python 3 (ipykernel)",
   "language": "python",
   "name": "python3"
  },
  "language_info": {
   "codemirror_mode": {
    "name": "ipython",
    "version": 3
   },
   "file_extension": ".py",
   "mimetype": "text/x-python",
   "name": "python",
   "nbconvert_exporter": "python",
   "pygments_lexer": "ipython3",
   "version": "3.7.11"
  }
 },
 "nbformat": 4,
 "nbformat_minor": 5
}
